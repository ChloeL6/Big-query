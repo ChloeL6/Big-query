{
 "cells": [
  {
   "cell_type": "code",
   "execution_count": 4,
   "metadata": {},
   "outputs": [],
   "source": [
    "from google.cloud import bigquery\n",
    "\n",
    "#create client for current project\n",
    "client = bigquery.Client()"
   ]
  },
  {
   "cell_type": "code",
   "execution_count": 3,
   "metadata": {},
   "outputs": [
    {
     "name": "stdout",
     "output_type": "stream",
     "text": [
      "Created dataset deb-01-372112.plants\n"
     ]
    }
   ],
   "source": [
    "#create new dataset\n",
    "\n",
    "#Set dataset_id to the ID of the dataset to create\n",
    "new_dataset_id = \"{}.plants\".format(client.project)\n",
    "\n",
    "#construct dataset obj to send to API\n",
    "dataset= bigquery.Dataset(new_dataset_id)\n",
    "\n",
    "#specify location\n",
    "dataset.location = \"US\"\n",
    "\n",
    "#Send dataset for creation\n",
    "dataset = client.create_dataset(dataset, timeout=30)  # Make an API request.\n",
    "print(\"Created dataset {}.{}\".format(client.project, dataset.dataset_id))\n"
   ]
  },
  {
   "cell_type": "code",
   "execution_count": 5,
   "metadata": {},
   "outputs": [
    {
     "name": "stdout",
     "output_type": "stream",
     "text": [
      "dataset id: lego, full_name: `deb-01-372112:lego`\n",
      "dataset id: mls_salaries, full_name: `deb-01-372112:mls_salaries`\n",
      "dataset id: my_vinyls, full_name: `deb-01-372112:my_vinyls`\n",
      "dataset id: plants, full_name: `deb-01-372112:plants`\n",
      "dataset id: sf_bikeshare, full_name: `deb-01-372112:sf_bikeshare`\n",
      "dataset id: streaming_catalog, full_name: `deb-01-372112:streaming_catalog`\n",
      "dataset id: world_population, full_name: `deb-01-372112:world_population`\n"
     ]
    }
   ],
   "source": [
    "#list available datasets\n",
    "for dataset in client.list_datasets():\n",
    "    dataset_id = dataset.dataset_id\n",
    "    print(f\"dataset id: {dataset_id}, full_name: `{dataset.full_dataset_id}`\")"
   ]
  },
  {
   "cell_type": "code",
   "execution_count": null,
   "metadata": {
    "vscode": {
     "languageId": "sql"
    }
   },
   "outputs": [],
   "source": [
    "--create table\n",
    "--drop table if exists\n",
    "DROP TABLE IF EXISTS `plants.flower_shop`;\n",
    "\n",
    "--set flower_shop table\n",
    "CREATE TABLE `plants.flower_shop`(\n",
    "  `plant_id` INT64 NOT NULL,\n",
    "  `species_name` STRING NOT NULL,\n",
    "  `variety_name` STRING NOT NULL,\n",
    "  `zone` INT64 NOT NULL,\n",
    "  `price` FLOAT64 NOT NULL\n",
    ");\n",
    "\n",
    "--Seed some records\n",
    "INSERT INTO `plants.flower_shop` VALUES\n",
    "(1,\"monstera\", \"swiss_cheese\", 5, 20.25),\n",
    "(2, \"cactus\",\"star\",8,8.00),\n",
    "(3,\"cactus\",\"bunny_ear\",9,8.00),\n",
    "(4,\"fern\",\"birds_nest\",6, 12.50),\n",
    "(5,\"cactus\",\"saguaro\",8,8.00),\n",
    "(6,\"fern\",\"giant\",7,11.00),\n",
    "(7,\"monstera\",\"albo\",5,14.75),\n",
    "(8,\"cactus\",\"blue_columnar\",8,9.00),\n",
    "(9,\"cactus\",\"barrel\",9,14.50),\n",
    "(10,\"bromeliad\",\"guzmania\",9,15.50);"
   ]
  },
  {
   "cell_type": "code",
   "execution_count": 7,
   "metadata": {},
   "outputs": [
    {
     "name": "stdout",
     "output_type": "stream",
     "text": [
      "table name flower_shop\n",
      "column name: plant_id, column field type: INTEGER\n",
      "column name: species_name, column field type: STRING\n",
      "column name: variety_name, column field type: STRING\n",
      "column name: zone, column field type: INTEGER\n",
      "column name: price, column field type: FLOAT\n"
     ]
    }
   ],
   "source": [
    "#get dataset obj\n",
    "plants_ref = client.get_dataset(\"plants\")\n",
    "\n",
    "#list table\n",
    "all_tables = client.list_tables(plants_ref)\n",
    "for table in all_tables:\n",
    "    print(f\"table name: {table.table_id}\")\n",
    "    \n",
    "    #list schema\n",
    "    table_ref = client.get_table(table)\n",
    "    schema = table_ref.schema\n",
    "    for column in schema:\n",
    "        print(f\"column name: {column.name}, column field type: {column.field_type}\")"
   ]
  }
 ],
 "metadata": {
  "kernelspec": {
   "display_name": "venv",
   "language": "python",
   "name": "python3"
  },
  "language_info": {
   "codemirror_mode": {
    "name": "ipython",
    "version": 3
   },
   "file_extension": ".py",
   "mimetype": "text/x-python",
   "name": "python",
   "nbconvert_exporter": "python",
   "pygments_lexer": "ipython3",
   "version": "3.7.15"
  },
  "orig_nbformat": 4,
  "vscode": {
   "interpreter": {
    "hash": "4537f5fb30bf18dac05e8801dd398d9238720d59db3aa364e6d9b55ee46e755c"
   }
  }
 },
 "nbformat": 4,
 "nbformat_minor": 2
}

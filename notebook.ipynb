{
 "cells": [
  {
   "cell_type": "code",
   "execution_count": 4,
   "metadata": {},
   "outputs": [],
   "source": [
    "from google.cloud import bigquery\n",
    "\n",
    "#create client for current project\n",
    "client = bigquery.Client()"
   ]
  },
  {
   "cell_type": "code",
   "execution_count": 3,
   "metadata": {},
   "outputs": [
    {
     "name": "stdout",
     "output_type": "stream",
     "text": [
      "Created dataset deb-01-372112.plants\n"
     ]
    }
   ],
   "source": [
    "#create new dataset\n",
    "\n",
    "#Set dataset_id to the ID of the dataset to create\n",
    "new_dataset_id = \"{}.plants\".format(client.project)\n",
    "\n",
    "#construct dataset obj to send to API\n",
    "dataset= bigquery.Dataset(new_dataset_id)\n",
    "\n",
    "#specify location\n",
    "dataset.location = \"US\"\n",
    "\n",
    "#Send dataset for creation\n",
    "dataset = client.create_dataset(dataset, timeout=30)  # Make an API request.\n",
    "print(\"Created dataset {}.{}\".format(client.project, dataset.dataset_id))\n"
   ]
  },
  {
   "cell_type": "code",
   "execution_count": 5,
   "metadata": {},
   "outputs": [
    {
     "name": "stdout",
     "output_type": "stream",
     "text": [
      "dataset id: lego, full_name: `deb-01-372112:lego`\n",
      "dataset id: mls_salaries, full_name: `deb-01-372112:mls_salaries`\n",
      "dataset id: my_vinyls, full_name: `deb-01-372112:my_vinyls`\n",
      "dataset id: plants, full_name: `deb-01-372112:plants`\n",
      "dataset id: sf_bikeshare, full_name: `deb-01-372112:sf_bikeshare`\n",
      "dataset id: streaming_catalog, full_name: `deb-01-372112:streaming_catalog`\n",
      "dataset id: world_population, full_name: `deb-01-372112:world_population`\n"
     ]
    }
   ],
   "source": [
    "#list available datasets\n",
    "for dataset in client.list_datasets():\n",
    "    dataset_id = dataset.dataset_id\n",
    "    print(f\"dataset id: {dataset_id}, full_name: `{dataset.full_dataset_id}`\")"
   ]
  },
  {
   "cell_type": "code",
   "execution_count": null,
   "metadata": {},
   "outputs": [],
   "source": [
    "#Set table_id\n",
    "table_id = \"deb-01-372112.plants.flower_shop\"\n",
    "\n",
    "#define schema\n",
    "schema = [\n",
    "  bigquery.SchemaField(\"plant_id\", \"INTEGER\", \"REQUIRED\"),\n",
    "  bigquery.SchemaField(\"species_name\", \"STRING\", \"REQUIRED\"),\n",
    "  bigquery.SchemaField(\"variety_name\", \"STRING\", \"REQUIRED\"),\n",
    "  \n",
    "]\n",
    "\n"
   ]
  }
 ],
 "metadata": {
  "kernelspec": {
   "display_name": "venv",
   "language": "python",
   "name": "python3"
  },
  "language_info": {
   "codemirror_mode": {
    "name": "ipython",
    "version": 3
   },
   "file_extension": ".py",
   "mimetype": "text/x-python",
   "name": "python",
   "nbconvert_exporter": "python",
   "pygments_lexer": "ipython3",
   "version": "3.7.15"
  },
  "orig_nbformat": 4,
  "vscode": {
   "interpreter": {
    "hash": "4537f5fb30bf18dac05e8801dd398d9238720d59db3aa364e6d9b55ee46e755c"
   }
  }
 },
 "nbformat": 4,
 "nbformat_minor": 2
}
